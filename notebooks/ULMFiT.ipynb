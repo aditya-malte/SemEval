{
  "nbformat": 4,
  "nbformat_minor": 0,
  "metadata": {
    "colab": {
      "name": "ULMFiT.ipynb",
      "provenance": [],
      "collapsed_sections": []
    },
    "kernelspec": {
      "name": "python3",
      "display_name": "Python 3"
    },
    "accelerator": "GPU"
  },
  "cells": [
    {
      "cell_type": "markdown",
      "metadata": {
        "id": "X7tKdQJdWeT_",
        "colab_type": "text"
      },
      "source": [
        ""
      ]
    },
    {
      "cell_type": "code",
      "metadata": {
        "id": "NODTw5O0cP2j",
        "colab_type": "code",
        "outputId": "817fdc39-8973-4a25-915d-8dc759858d21",
        "colab": {
          "base_uri": "https://localhost:8080/",
          "height": 50
        }
      },
      "source": [
        "import os\n",
        "\n",
        "from fastai.text import *\n",
        "import pandas as pd\n",
        "import numpy as np\n",
        "\n",
        "pd.set_option('display.max_colwidth', -1)"
      ],
      "execution_count": 3,
      "outputs": [
        {
          "output_type": "stream",
          "text": [
            "Drive already mounted at /content/gdrive; to attempt to forcibly remount, call drive.mount(\"/content/gdrive\", force_remount=True).\n"
          ],
          "name": "stdout"
        },
        {
          "output_type": "execute_result",
          "data": {
            "text/plain": [
              "'/content'"
            ]
          },
          "metadata": {
            "tags": []
          },
          "execution_count": 3
        }
      ]
    },
    {
      "cell_type": "code",
      "metadata": {
        "id": "eHtUF2VZIUMe",
        "colab_type": "code",
        "colab": {
          "base_uri": "https://localhost:8080/",
          "height": 84
        },
        "outputId": "c36e27da-a3d9-4c18-9202-69f305dc4f6f"
      },
      "source": [
        "from google.colab import drive\n",
        "drive.mount('/gdrive', force_remount=True)\n",
        "!ln -s \"/gdrive/My Drive/SemEval_weights_data\" \"/content/\"\n",
        "drive_path = \"/content/SemEval_weights_data/data/\"\n",
        "save_path = \"/content/SemEval_weights_data/models\"\n",
        "\n",
        "try:\n",
        "  os.chdir(drive_path)\n",
        "  #os.chdir('/content/drive/My Drive/Colab Notebooks/semeval')\n",
        "  print('Changed directory')\n",
        "  print(os.getcwd())\n",
        "except:\n",
        "  print('Cannot change directory')\n",
        "  print(os.getcwd())"
      ],
      "execution_count": 6,
      "outputs": [
        {
          "output_type": "stream",
          "text": [
            "Mounted at /gdrive\n",
            "ln: failed to create symbolic link '/content/SemEval_weights_data': File exists\n",
            "Changed directory\n",
            "/gdrive/My Drive/SemEval_weights_data/data\n"
          ],
          "name": "stdout"
        }
      ]
    },
    {
      "cell_type": "markdown",
      "metadata": {
        "id": "_0FqsRgqWo2c",
        "colab_type": "text"
      },
      "source": [
        "## 1. Import the data"
      ]
    },
    {
      "cell_type": "code",
      "metadata": {
        "id": "QtJrE3IAcsPM",
        "colab_type": "code",
        "outputId": "64406633-7f21-445a-c429-e08aeea6596e",
        "colab": {
          "base_uri": "https://localhost:8080/",
          "height": 195
        }
      },
      "source": [
        "df_train = pd.read_csv(drive_path+'processed_train.csv')\n",
        "df_test = pd.read_csv(drive_path+'processed_val.csv')\n",
        "# df_train.head()\n",
        "df_trn = df_train[['sentiment', 'text']].rename({'sentiment': 'label'}, axis=1)\n",
        "df_val = df_train[['sentiment', 'text']].rename({'sentiment': 'label'}, axis=1)\n",
        "df_trn.head()"
      ],
      "execution_count": 10,
      "outputs": [
        {
          "output_type": "execute_result",
          "data": {
            "text/html": [
              "<div>\n",
              "<style scoped>\n",
              "    .dataframe tbody tr th:only-of-type {\n",
              "        vertical-align: middle;\n",
              "    }\n",
              "\n",
              "    .dataframe tbody tr th {\n",
              "        vertical-align: top;\n",
              "    }\n",
              "\n",
              "    .dataframe thead th {\n",
              "        text-align: right;\n",
              "    }\n",
              "</style>\n",
              "<table border=\"1\" class=\"dataframe\">\n",
              "  <thead>\n",
              "    <tr style=\"text-align: right;\">\n",
              "      <th></th>\n",
              "      <th>label</th>\n",
              "      <th>text</th>\n",
              "    </tr>\n",
              "  </thead>\n",
              "  <tbody>\n",
              "    <tr>\n",
              "      <th>0</th>\n",
              "      <td>neutral</td>\n",
              "      <td>nen á vist bolest vztek smutek zmatek osam ě lost beznad ě j a nakonec jen klid Asi takhle vypad á m ů j life ...</td>\n",
              "    </tr>\n",
              "    <tr>\n",
              "      <th>1</th>\n",
              "      <td>neutral</td>\n",
              "      <td>@nehantics Haan yaar neha :pensive_face::pensive_face: kab karega woh post :loudly_crying_face: Usne na sach mein photoshoot karna chahiye phir woh post karega</td>\n",
              "    </tr>\n",
              "    <tr>\n",
              "      <th>2</th>\n",
              "      <td>negative</td>\n",
              "      <td>@RahulGandhi television media congress ke liye nhi h . Ye toh aapko pata chal hi gya hoga . Achha hoga ki Congress ke</td>\n",
              "    </tr>\n",
              "    <tr>\n",
              "      <th>3</th>\n",
              "      <td>positive</td>\n",
              "      <td>@AmitShah @narendramodi All India me nrc lagu kare w Kashmir se dhara ko khatam kare ham Indian ko apse yahi umid hai</td>\n",
              "    </tr>\n",
              "    <tr>\n",
              "      <th>4</th>\n",
              "      <td>neutral</td>\n",
              "      <td>@Nehr_who @TypoMantri @anjanaomkashyap Pagal hai kya ? They aren ’ t real issues Mandir is important Hindu khatre mei jo hai !</td>\n",
              "    </tr>\n",
              "  </tbody>\n",
              "</table>\n",
              "</div>"
            ],
            "text/plain": [
              "      label                                                                                                                                                              text\n",
              "0  neutral   nen á vist bolest vztek smutek zmatek osam ě lost beznad ě j a nakonec jen klid Asi takhle vypad á m ů j life ...                                               \n",
              "1  neutral   @nehantics Haan yaar neha :pensive_face::pensive_face: kab karega woh post :loudly_crying_face: Usne na sach mein photoshoot karna chahiye phir woh post karega \n",
              "2  negative  @RahulGandhi television media congress ke liye nhi h . Ye toh aapko pata chal hi gya hoga . Achha hoga ki Congress ke                                           \n",
              "3  positive  @AmitShah @narendramodi All India me nrc lagu kare w Kashmir se dhara ko khatam kare ham Indian ko apse yahi umid hai                                           \n",
              "4  neutral   @Nehr_who @TypoMantri @anjanaomkashyap Pagal hai kya ? They aren ’ t real issues Mandir is important Hindu khatre mei jo hai !                                  "
            ]
          },
          "metadata": {
            "tags": []
          },
          "execution_count": 10
        }
      ]
    },
    {
      "cell_type": "markdown",
      "metadata": {
        "id": "7SSQyf-RWwnG",
        "colab_type": "text"
      },
      "source": [
        "## 2. Create train & validation datasets and FastAI data bunch"
      ]
    },
    {
      "cell_type": "code",
      "metadata": {
        "id": "yx5Z7N6v85y8",
        "colab_type": "code",
        "colab": {
          "base_uri": "https://localhost:8080/",
          "height": 17
        },
        "outputId": "86b96957-d56d-4973-816b-17355c1393d1"
      },
      "source": [
        "# Language model data\n",
        "data_lm = TextLMDataBunch.from_df(train_df = df_trn, valid_df = df_val, path = \"\")\n",
        "\n",
        "# Classifier model data\n",
        "data_clas = TextClasDataBunch.from_df(train_df = df_trn, valid_df = df_val, path = \"\", vocab=data_lm.train_ds.vocab, bs=32)"
      ],
      "execution_count": 11,
      "outputs": [
        {
          "output_type": "display_data",
          "data": {
            "text/html": [
              ""
            ],
            "text/plain": [
              "<IPython.core.display.HTML object>"
            ]
          },
          "metadata": {
            "tags": []
          }
        },
        {
          "output_type": "display_data",
          "data": {
            "text/html": [
              ""
            ],
            "text/plain": [
              "<IPython.core.display.HTML object>"
            ]
          },
          "metadata": {
            "tags": []
          }
        },
        {
          "output_type": "display_data",
          "data": {
            "text/html": [
              ""
            ],
            "text/plain": [
              "<IPython.core.display.HTML object>"
            ]
          },
          "metadata": {
            "tags": []
          }
        },
        {
          "output_type": "display_data",
          "data": {
            "text/html": [
              ""
            ],
            "text/plain": [
              "<IPython.core.display.HTML object>"
            ]
          },
          "metadata": {
            "tags": []
          }
        }
      ]
    },
    {
      "cell_type": "code",
      "metadata": {
        "id": "YcbffU6e88k5",
        "colab_type": "code",
        "outputId": "b3253497-f882-4c56-c1b4-ba5af68ea254",
        "colab": {
          "base_uri": "https://localhost:8080/",
          "height": 296
        }
      },
      "source": [
        "data_clas.show_batch()"
      ],
      "execution_count": 12,
      "outputs": [
        {
          "output_type": "display_data",
          "data": {
            "text/html": [
              "<table border=\"1\" class=\"dataframe\">\n",
              "  <thead>\n",
              "    <tr style=\"text-align: right;\">\n",
              "      <th>text</th>\n",
              "      <th>target</th>\n",
              "    </tr>\n",
              "  </thead>\n",
              "  <tbody>\n",
              "    <tr>\n",
              "      <td>xxbos @gurmeetramrahim : tulip : xxup dhan : tulip : xxup dhan : rose : xxup satguru : rose : : rose : xxup tera : rose : xxup hi : tulip : xxup aasra : tulip : g : folded_hands : : rose : xxup pyare : rose : xxup sohne : rose : xxup xxunk : rose : : rose : xxup mahi : rose : xxup rabb</td>\n",
              "      <td>neutral</td>\n",
              "    </tr>\n",
              "    <tr>\n",
              "      <td>xxbos xxup rt xxunk xxmaj what a xxmaj gorgeous xxmaj look xxmaj of xxmaj mah xxup xxunk xxmaj sooo xxmaj xxunk xxmaj xxunk xxmaj she xxmaj is : smiling_face_with_heart - eyes::smiling_face_with_heart - eyes::smiling_face_with_heart - eyes::smiling_face_with_heart - eyes::smiling_face_with_heart - eyes::smiling_face_with_heart - eyes::smiling_face_with_heart - eyes : xxmaj nazar xxmaj na xxmaj lag xxmaj jaaye xxmaj jaanu : face_blowing_a_kiss::face_blowing_a_kiss : xxmaj thought xxmaj ye xxmaj xxunk</td>\n",
              "      <td>neutral</td>\n",
              "    </tr>\n",
              "    <tr>\n",
              "      <td>xxbos xxup rt xxunk xxmaj xxunk xxup ab v ý rok xxmaj xxunk o xxunk z á xxunk ů odm í t á m odm í taj í ho m í pr á xxunk í ci . xxmaj pro č ? č ek á me na p xxunk xxunk a pak se xxunk á d xxunk me ? xxmaj ch á pe</td>\n",
              "      <td>neutral</td>\n",
              "    </tr>\n",
              "    <tr>\n",
              "      <td>xxbos xxup rt xxunk no one absolutely no one nctzens : xxunk : who : face_with_steam_from_nose::face_with_steam_from_nose : the xxup fuck : xxunk : made xxup our : xxunk : xxup pure xxup boy : xxunk - xxunk : xxup renjun : star - xxunk : xxunk xxup cry ? ! ? ! ? ! ? : xxunk - xxunk :</td>\n",
              "      <td>negative</td>\n",
              "    </tr>\n",
              "    <tr>\n",
              "      <td>xxbos xxup rt xxup xxunk xxup what xxup the xxup fuck ! ! ! xxup like xxup what xxup in xxup the xxup actual xxup fuck xxrep 4 ! xxmaj dila can ’ t die she can ’ t die there ’ s no xxmaj xxunk without xxmaj dila : loudly_crying_face::loudly_crying_face::loudly_crying_face : tell me it wa</td>\n",
              "      <td>negative</td>\n",
              "    </tr>\n",
              "  </tbody>\n",
              "</table>"
            ],
            "text/plain": [
              "<IPython.core.display.HTML object>"
            ]
          },
          "metadata": {
            "tags": []
          }
        }
      ]
    },
    {
      "cell_type": "code",
      "metadata": {
        "id": "Jo1xRTOP9J_2",
        "colab_type": "code",
        "colab": {}
      },
      "source": [
        "data_lm.save('data_lm_export.pkl')\n",
        "data_clas.save('data_clas_export.pkl')\n",
        "data_lm = load_data('./', 'data_lm_export.pkl')\n",
        "data_clas = load_data('./', 'data_clas_export.pkl', bs=64)"
      ],
      "execution_count": 0,
      "outputs": []
    },
    {
      "cell_type": "markdown",
      "metadata": {
        "id": "5UsS_KdIW6DS",
        "colab_type": "text"
      },
      "source": [
        "## 3. Create and Train the Language Model"
      ]
    },
    {
      "cell_type": "code",
      "metadata": {
        "id": "l-IrOyNv9UIL",
        "colab_type": "code",
        "colab": {
          "base_uri": "https://localhost:8080/",
          "height": 34
        },
        "outputId": "ceaaee5f-0ff3-4bd8-d6bd-62e3cc50dd26"
      },
      "source": [
        "learn = language_model_learner(data_lm, AWD_LSTM, drop_mult=0.3)"
      ],
      "execution_count": 14,
      "outputs": [
        {
          "output_type": "stream",
          "text": [
            "Downloading https://s3.amazonaws.com/fast-ai-modelzoo/wt103-fwd\n"
          ],
          "name": "stdout"
        },
        {
          "output_type": "display_data",
          "data": {
            "text/html": [
              ""
            ],
            "text/plain": [
              "<IPython.core.display.HTML object>"
            ]
          },
          "metadata": {
            "tags": []
          }
        }
      ]
    },
    {
      "cell_type": "code",
      "metadata": {
        "id": "vmCBf6aQ9X0J",
        "colab_type": "code",
        "outputId": "24bc14a3-f18b-4e4f-ce15-d5a4f1d540da",
        "colab": {
          "base_uri": "https://localhost:8080/",
          "height": 438
        }
      },
      "source": [
        "learn.lr_find()\n",
        "learn.recorder.plot(suggestion=True)\n",
        "min_grad_lr = learn.recorder.min_grad_lr"
      ],
      "execution_count": 15,
      "outputs": [
        {
          "output_type": "display_data",
          "data": {
            "text/html": [
              "\n",
              "    <div>\n",
              "        <style>\n",
              "            /* Turns off some styling */\n",
              "            progress {\n",
              "                /* gets rid of default border in Firefox and Opera. */\n",
              "                border: none;\n",
              "                /* Needs to be in here for Safari polyfill so background images work as expected. */\n",
              "                background-size: auto;\n",
              "            }\n",
              "            .progress-bar-interrupted, .progress-bar-interrupted::-webkit-progress-bar {\n",
              "                background: #F44336;\n",
              "            }\n",
              "        </style>\n",
              "      <progress value='1' class='' max='2', style='width:300px; height:20px; vertical-align: middle;'></progress>\n",
              "      50.00% [1/2 00:17<00:17]\n",
              "    </div>\n",
              "    \n",
              "<table border=\"1\" class=\"dataframe\">\n",
              "  <thead>\n",
              "    <tr style=\"text-align: left;\">\n",
              "      <th>epoch</th>\n",
              "      <th>train_loss</th>\n",
              "      <th>valid_loss</th>\n",
              "      <th>accuracy</th>\n",
              "      <th>time</th>\n",
              "    </tr>\n",
              "  </thead>\n",
              "  <tbody>\n",
              "    <tr>\n",
              "      <td>0</td>\n",
              "      <td>7.125181</td>\n",
              "      <td>#na#</td>\n",
              "      <td>00:17</td>\n",
              "    </tr>\n",
              "  </tbody>\n",
              "</table><p>\n",
              "\n",
              "    <div>\n",
              "        <style>\n",
              "            /* Turns off some styling */\n",
              "            progress {\n",
              "                /* gets rid of default border in Firefox and Opera. */\n",
              "                border: none;\n",
              "                /* Needs to be in here for Safari polyfill so background images work as expected. */\n",
              "                background-size: auto;\n",
              "            }\n",
              "            .progress-bar-interrupted, .progress-bar-interrupted::-webkit-progress-bar {\n",
              "                background: #F44336;\n",
              "            }\n",
              "        </style>\n",
              "      <progress value='17' class='' max='82', style='width:300px; height:20px; vertical-align: middle;'></progress>\n",
              "      20.73% [17/82 00:03<00:13 10.8715]\n",
              "    </div>\n",
              "    "
            ],
            "text/plain": [
              "<IPython.core.display.HTML object>"
            ]
          },
          "metadata": {
            "tags": []
          }
        },
        {
          "output_type": "stream",
          "text": [
            "LR Finder is complete, type {learner_name}.recorder.plot() to see the graph.\n",
            "Min numerical gradient: 1.32E-02\n",
            "Min loss divided by 10: 7.59E-02\n"
          ],
          "name": "stdout"
        },
        {
          "output_type": "display_data",
          "data": {
            "image/png": "[encoded data removed]",
            "text/plain": [
              "<Figure size 432x288 with 1 Axes>"
            ]
          },
          "metadata": {
            "tags": []
          }
        }
      ]
    },
    {
      "cell_type": "code",
      "metadata": {
        "id": "dQoyexxK9bV5",
        "colab_type": "code",
        "outputId": "e9fe0e39-83a0-4fdc-84c1-5cc573651a76",
        "colab": {
          "base_uri": "https://localhost:8080/",
          "height": 106
        }
      },
      "source": [
        "learn.fit_one_cycle(2, min_grad_lr)"
      ],
      "execution_count": 16,
      "outputs": [
        {
          "output_type": "display_data",
          "data": {
            "text/html": [
              "<table border=\"1\" class=\"dataframe\">\n",
              "  <thead>\n",
              "    <tr style=\"text-align: left;\">\n",
              "      <th>epoch</th>\n",
              "      <th>train_loss</th>\n",
              "      <th>valid_loss</th>\n",
              "      <th>accuracy</th>\n",
              "      <th>time</th>\n",
              "    </tr>\n",
              "  </thead>\n",
              "  <tbody>\n",
              "    <tr>\n",
              "      <td>0</td>\n",
              "      <td>5.908895</td>\n",
              "      <td>4.982615</td>\n",
              "      <td>0.248329</td>\n",
              "      <td>00:24</td>\n",
              "    </tr>\n",
              "    <tr>\n",
              "      <td>1</td>\n",
              "      <td>5.106332</td>\n",
              "      <td>4.635746</td>\n",
              "      <td>0.275419</td>\n",
              "      <td>00:24</td>\n",
              "    </tr>\n",
              "  </tbody>\n",
              "</table>"
            ],
            "text/plain": [
              "<IPython.core.display.HTML object>"
            ]
          },
          "metadata": {
            "tags": []
          }
        }
      ]
    },
    {
      "cell_type": "code",
      "metadata": {
        "id": "sp0jzmcR9cF6",
        "colab_type": "code",
        "outputId": "438b89d2-bcdf-4c07-bbd8-08c3a53e64ac",
        "colab": {
          "base_uri": "https://localhost:8080/",
          "height": 106
        }
      },
      "source": [
        "learn.unfreeze()\n",
        "learn.fit_one_cycle(2, 1e-3)"
      ],
      "execution_count": 17,
      "outputs": [
        {
          "output_type": "display_data",
          "data": {
            "text/html": [
              "<table border=\"1\" class=\"dataframe\">\n",
              "  <thead>\n",
              "    <tr style=\"text-align: left;\">\n",
              "      <th>epoch</th>\n",
              "      <th>train_loss</th>\n",
              "      <th>valid_loss</th>\n",
              "      <th>accuracy</th>\n",
              "      <th>time</th>\n",
              "    </tr>\n",
              "  </thead>\n",
              "  <tbody>\n",
              "    <tr>\n",
              "      <td>0</td>\n",
              "      <td>4.575572</td>\n",
              "      <td>4.286129</td>\n",
              "      <td>0.310235</td>\n",
              "      <td>00:25</td>\n",
              "    </tr>\n",
              "    <tr>\n",
              "      <td>1</td>\n",
              "      <td>4.419355</td>\n",
              "      <td>4.203620</td>\n",
              "      <td>0.317062</td>\n",
              "      <td>00:26</td>\n",
              "    </tr>\n",
              "  </tbody>\n",
              "</table>"
            ],
            "text/plain": [
              "<IPython.core.display.HTML object>"
            ]
          },
          "metadata": {
            "tags": []
          }
        }
      ]
    },
    {
      "cell_type": "code",
      "metadata": {
        "id": "h6mBSac69hDA",
        "colab_type": "code",
        "outputId": "0b903c6c-638b-485e-d32f-36a09ab4732b",
        "colab": {
          "base_uri": "https://localhost:8080/",
          "height": 34
        }
      },
      "source": [
        "learn.predict(\"How do\", n_words=10)"
      ],
      "execution_count": 18,
      "outputs": [
        {
          "output_type": "execute_result",
          "data": {
            "text/plain": [
              "\"How do i n't worry ? ? ? Hundred_points :\""
            ]
          },
          "metadata": {
            "tags": []
          },
          "execution_count": 18
        }
      ]
    },
    {
      "cell_type": "code",
      "metadata": {
        "id": "WgIcbM439kjI",
        "colab_type": "code",
        "colab": {}
      },
      "source": [
        "learn.save_encoder('ft_enc')"
      ],
      "execution_count": 0,
      "outputs": []
    },
    {
      "cell_type": "markdown",
      "metadata": {
        "id": "-qfpJf2fXAQY",
        "colab_type": "text"
      },
      "source": [
        "## 4. Using the Language Model to Train the Classifier"
      ]
    },
    {
      "cell_type": "code",
      "metadata": {
        "id": "-dJUmbri9n3v",
        "colab_type": "code",
        "colab": {
          "base_uri": "https://localhost:8080/",
          "height": 1000
        },
        "outputId": "33578780-ab82-4f2e-a30e-56292d681f6e"
      },
      "source": [
        "learn = text_classifier_learner(data_clas, AWD_LSTM, drop_mult=0.5)\n",
        "learn.load_encoder('ft_enc')"
      ],
      "execution_count": 20,
      "outputs": [
        {
          "output_type": "execute_result",
          "data": {
            "text/plain": [
              "RNNLearner(data=TextClasDataBunch;\n",
              "\n",
              "Train: LabelList (14000 items)\n",
              "x: TextList\n",
              "xxbos xxunk á xxunk xxunk xxunk xxunk xxunk xxunk ě lost xxunk ě j a xxunk jen xxunk xxmaj asi xxunk xxunk á m ů j life ...,xxbos xxunk xxmaj haan yaar neha : pensive_face::pensive_face : kab karega woh post : loudly_crying_face : xxmaj usne na sach mein xxunk karna chahiye phir woh post karega,xxbos @rahulgandhi television media congress ke liye nhi h . xxmaj ye toh aapko pata chal hi gya hoga . xxmaj achha hoga ki xxmaj congress ke,xxbos @amitshah @narendramodi xxmaj all xxmaj india me nrc lagu kare w xxmaj kashmir se dhara ko khatam kare ham xxmaj indian ko apse yahi umid hai,xxbos @nehr_who xxunk @anjanaomkashyap xxmaj pagal hai kya ? xxmaj they aren ’ t real issues xxmaj mandir is important xxmaj hindu khatre mei jo hai !\n",
              "y: CategoryList\n",
              "neutral,neutral,negative,positive,neutral\n",
              "Path: .;\n",
              "\n",
              "Valid: LabelList (14000 items)\n",
              "x: TextList\n",
              "xxbos xxunk á xxunk xxunk xxunk xxunk xxunk xxunk ě lost xxunk ě j a xxunk jen xxunk xxmaj asi xxunk xxunk á m ů j life ...,xxbos xxunk xxmaj haan yaar neha : pensive_face::pensive_face : kab karega woh post : loudly_crying_face : xxmaj usne na sach mein xxunk karna chahiye phir woh post karega,xxbos @rahulgandhi television media congress ke liye nhi h . xxmaj ye toh aapko pata chal hi gya hoga . xxmaj achha hoga ki xxmaj congress ke,xxbos @amitshah @narendramodi xxmaj all xxmaj india me nrc lagu kare w xxmaj kashmir se dhara ko khatam kare ham xxmaj indian ko apse yahi umid hai,xxbos @nehr_who xxunk @anjanaomkashyap xxmaj pagal hai kya ? xxmaj they aren ’ t real issues xxmaj mandir is important xxmaj hindu khatre mei jo hai !\n",
              "y: CategoryList\n",
              "neutral,neutral,negative,positive,neutral\n",
              "Path: .;\n",
              "\n",
              "Test: None, model=SequentialRNN(\n",
              "  (0): MultiBatchEncoder(\n",
              "    (module): AWD_LSTM(\n",
              "      (encoder): Embedding(14864, 400, padding_idx=1)\n",
              "      (encoder_dp): EmbeddingDropout(\n",
              "        (emb): Embedding(14864, 400, padding_idx=1)\n",
              "      )\n",
              "      (rnns): ModuleList(\n",
              "        (0): WeightDropout(\n",
              "          (module): LSTM(400, 1152, batch_first=True)\n",
              "        )\n",
              "        (1): WeightDropout(\n",
              "          (module): LSTM(1152, 1152, batch_first=True)\n",
              "        )\n",
              "        (2): WeightDropout(\n",
              "          (module): LSTM(1152, 400, batch_first=True)\n",
              "        )\n",
              "      )\n",
              "      (input_dp): RNNDropout()\n",
              "      (hidden_dps): ModuleList(\n",
              "        (0): RNNDropout()\n",
              "        (1): RNNDropout()\n",
              "        (2): RNNDropout()\n",
              "      )\n",
              "    )\n",
              "  )\n",
              "  (1): PoolingLinearClassifier(\n",
              "    (layers): Sequential(\n",
              "      (0): BatchNorm1d(1200, eps=1e-05, momentum=0.1, affine=True, track_running_stats=True)\n",
              "      (1): Dropout(p=0.2, inplace=False)\n",
              "      (2): Linear(in_features=1200, out_features=50, bias=True)\n",
              "      (3): ReLU(inplace=True)\n",
              "      (4): BatchNorm1d(50, eps=1e-05, momentum=0.1, affine=True, track_running_stats=True)\n",
              "      (5): Dropout(p=0.1, inplace=False)\n",
              "      (6): Linear(in_features=50, out_features=3, bias=True)\n",
              "    )\n",
              "  )\n",
              "), opt_func=functools.partial(<class 'torch.optim.adam.Adam'>, betas=(0.9, 0.99)), loss_func=FlattenedLoss of CrossEntropyLoss(), metrics=[<function accuracy at 0x7f47a2e4df28>], true_wd=True, bn_wd=True, wd=0.01, train_bn=True, path=PosixPath('.'), model_dir='models', callback_fns=[functools.partial(<class 'fastai.basic_train.Recorder'>, add_time=True, silent=False)], callbacks=[RNNTrainer\n",
              "learn: RNNLearner(data=TextClasDataBunch;\n",
              "\n",
              "Train: LabelList (14000 items)\n",
              "x: TextList\n",
              "xxbos xxunk á xxunk xxunk xxunk xxunk xxunk xxunk ě lost xxunk ě j a xxunk jen xxunk xxmaj asi xxunk xxunk á m ů j life ...,xxbos xxunk xxmaj haan yaar neha : pensive_face::pensive_face : kab karega woh post : loudly_crying_face : xxmaj usne na sach mein xxunk karna chahiye phir woh post karega,xxbos @rahulgandhi television media congress ke liye nhi h . xxmaj ye toh aapko pata chal hi gya hoga . xxmaj achha hoga ki xxmaj congress ke,xxbos @amitshah @narendramodi xxmaj all xxmaj india me nrc lagu kare w xxmaj kashmir se dhara ko khatam kare ham xxmaj indian ko apse yahi umid hai,xxbos @nehr_who xxunk @anjanaomkashyap xxmaj pagal hai kya ? xxmaj they aren ’ t real issues xxmaj mandir is important xxmaj hindu khatre mei jo hai !\n",
              "y: CategoryList\n",
              "neutral,neutral,negative,positive,neutral\n",
              "Path: .;\n",
              "\n",
              "Valid: LabelList (14000 items)\n",
              "x: TextList\n",
              "xxbos xxunk á xxunk xxunk xxunk xxunk xxunk xxunk ě lost xxunk ě j a xxunk jen xxunk xxmaj asi xxunk xxunk á m ů j life ...,xxbos xxunk xxmaj haan yaar neha : pensive_face::pensive_face : kab karega woh post : loudly_crying_face : xxmaj usne na sach mein xxunk karna chahiye phir woh post karega,xxbos @rahulgandhi television media congress ke liye nhi h . xxmaj ye toh aapko pata chal hi gya hoga . xxmaj achha hoga ki xxmaj congress ke,xxbos @amitshah @narendramodi xxmaj all xxmaj india me nrc lagu kare w xxmaj kashmir se dhara ko khatam kare ham xxmaj indian ko apse yahi umid hai,xxbos @nehr_who xxunk @anjanaomkashyap xxmaj pagal hai kya ? xxmaj they aren ’ t real issues xxmaj mandir is important xxmaj hindu khatre mei jo hai !\n",
              "y: CategoryList\n",
              "neutral,neutral,negative,positive,neutral\n",
              "Path: .;\n",
              "\n",
              "Test: None, model=SequentialRNN(\n",
              "  (0): MultiBatchEncoder(\n",
              "    (module): AWD_LSTM(\n",
              "      (encoder): Embedding(14864, 400, padding_idx=1)\n",
              "      (encoder_dp): EmbeddingDropout(\n",
              "        (emb): Embedding(14864, 400, padding_idx=1)\n",
              "      )\n",
              "      (rnns): ModuleList(\n",
              "        (0): WeightDropout(\n",
              "          (module): LSTM(400, 1152, batch_first=True)\n",
              "        )\n",
              "        (1): WeightDropout(\n",
              "          (module): LSTM(1152, 1152, batch_first=True)\n",
              "        )\n",
              "        (2): WeightDropout(\n",
              "          (module): LSTM(1152, 400, batch_first=True)\n",
              "        )\n",
              "      )\n",
              "      (input_dp): RNNDropout()\n",
              "      (hidden_dps): ModuleList(\n",
              "        (0): RNNDropout()\n",
              "        (1): RNNDropout()\n",
              "        (2): RNNDropout()\n",
              "      )\n",
              "    )\n",
              "  )\n",
              "  (1): PoolingLinearClassifier(\n",
              "    (layers): Sequential(\n",
              "      (0): BatchNorm1d(1200, eps=1e-05, momentum=0.1, affine=True, track_running_stats=True)\n",
              "      (1): Dropout(p=0.2, inplace=False)\n",
              "      (2): Linear(in_features=1200, out_features=50, bias=True)\n",
              "      (3): ReLU(inplace=True)\n",
              "      (4): BatchNorm1d(50, eps=1e-05, momentum=0.1, affine=True, track_running_stats=True)\n",
              "      (5): Dropout(p=0.1, inplace=False)\n",
              "      (6): Linear(in_features=50, out_features=3, bias=True)\n",
              "    )\n",
              "  )\n",
              "), opt_func=functools.partial(<class 'torch.optim.adam.Adam'>, betas=(0.9, 0.99)), loss_func=FlattenedLoss of CrossEntropyLoss(), metrics=[<function accuracy at 0x7f47a2e4df28>], true_wd=True, bn_wd=True, wd=0.01, train_bn=True, path=PosixPath('.'), model_dir='models', callback_fns=[functools.partial(<class 'fastai.basic_train.Recorder'>, add_time=True, silent=False)], callbacks=[...], layer_groups=[Sequential(\n",
              "  (0): Embedding(14864, 400, padding_idx=1)\n",
              "  (1): EmbeddingDropout(\n",
              "    (emb): Embedding(14864, 400, padding_idx=1)\n",
              "  )\n",
              "), Sequential(\n",
              "  (0): WeightDropout(\n",
              "    (module): LSTM(400, 1152, batch_first=True)\n",
              "  )\n",
              "  (1): RNNDropout()\n",
              "), Sequential(\n",
              "  (0): WeightDropout(\n",
              "    (module): LSTM(1152, 1152, batch_first=True)\n",
              "  )\n",
              "  (1): RNNDropout()\n",
              "), Sequential(\n",
              "  (0): WeightDropout(\n",
              "    (module): LSTM(1152, 400, batch_first=True)\n",
              "  )\n",
              "  (1): RNNDropout()\n",
              "), Sequential(\n",
              "  (0): PoolingLinearClassifier(\n",
              "    (layers): Sequential(\n",
              "      (0): BatchNorm1d(1200, eps=1e-05, momentum=0.1, affine=True, track_running_stats=True)\n",
              "      (1): Dropout(p=0.2, inplace=False)\n",
              "      (2): Linear(in_features=1200, out_features=50, bias=True)\n",
              "      (3): ReLU(inplace=True)\n",
              "      (4): BatchNorm1d(50, eps=1e-05, momentum=0.1, affine=True, track_running_stats=True)\n",
              "      (5): Dropout(p=0.1, inplace=False)\n",
              "      (6): Linear(in_features=50, out_features=3, bias=True)\n",
              "    )\n",
              "  )\n",
              ")], add_time=True, silent=False)\n",
              "alpha: 2.0\n",
              "beta: 1.0], layer_groups=[Sequential(\n",
              "  (0): Embedding(14864, 400, padding_idx=1)\n",
              "  (1): EmbeddingDropout(\n",
              "    (emb): Embedding(14864, 400, padding_idx=1)\n",
              "  )\n",
              "), Sequential(\n",
              "  (0): WeightDropout(\n",
              "    (module): LSTM(400, 1152, batch_first=True)\n",
              "  )\n",
              "  (1): RNNDropout()\n",
              "), Sequential(\n",
              "  (0): WeightDropout(\n",
              "    (module): LSTM(1152, 1152, batch_first=True)\n",
              "  )\n",
              "  (1): RNNDropout()\n",
              "), Sequential(\n",
              "  (0): WeightDropout(\n",
              "    (module): LSTM(1152, 400, batch_first=True)\n",
              "  )\n",
              "  (1): RNNDropout()\n",
              "), Sequential(\n",
              "  (0): PoolingLinearClassifier(\n",
              "    (layers): Sequential(\n",
              "      (0): BatchNorm1d(1200, eps=1e-05, momentum=0.1, affine=True, track_running_stats=True)\n",
              "      (1): Dropout(p=0.2, inplace=False)\n",
              "      (2): Linear(in_features=1200, out_features=50, bias=True)\n",
              "      (3): ReLU(inplace=True)\n",
              "      (4): BatchNorm1d(50, eps=1e-05, momentum=0.1, affine=True, track_running_stats=True)\n",
              "      (5): Dropout(p=0.1, inplace=False)\n",
              "      (6): Linear(in_features=50, out_features=3, bias=True)\n",
              "    )\n",
              "  )\n",
              ")], add_time=True, silent=False)"
            ]
          },
          "metadata": {
            "tags": []
          },
          "execution_count": 20
        }
      ]
    },
    {
      "cell_type": "code",
      "metadata": {
        "id": "jOBRWdea9s2L",
        "colab_type": "code",
        "outputId": "03f9ca93-2fcd-4f91-98ed-afa09b65fc02",
        "colab": {
          "base_uri": "https://localhost:8080/",
          "height": 408
        }
      },
      "source": [
        "learn.lr_find()\n",
        "learn.recorder.plot(suggestion=True)\n",
        "min_grad_lr = learn.recorder.min_grad_lr"
      ],
      "execution_count": 21,
      "outputs": [
        {
          "output_type": "display_data",
          "data": {
            "text/html": [
              "\n",
              "    <div>\n",
              "        <style>\n",
              "            /* Turns off some styling */\n",
              "            progress {\n",
              "                /* gets rid of default border in Firefox and Opera. */\n",
              "                border: none;\n",
              "                /* Needs to be in here for Safari polyfill so background images work as expected. */\n",
              "                background-size: auto;\n",
              "            }\n",
              "            .progress-bar-interrupted, .progress-bar-interrupted::-webkit-progress-bar {\n",
              "                background: #F44336;\n",
              "            }\n",
              "        </style>\n",
              "      <progress value='0' class='' max='1', style='width:300px; height:20px; vertical-align: middle;'></progress>\n",
              "      0.00% [0/1 00:00<00:00]\n",
              "    </div>\n",
              "    \n",
              "<table border=\"1\" class=\"dataframe\">\n",
              "  <thead>\n",
              "    <tr style=\"text-align: left;\">\n",
              "      <th>epoch</th>\n",
              "      <th>train_loss</th>\n",
              "      <th>valid_loss</th>\n",
              "      <th>accuracy</th>\n",
              "      <th>time</th>\n",
              "    </tr>\n",
              "  </thead>\n",
              "  <tbody>\n",
              "  </tbody>\n",
              "</table><p>\n",
              "\n",
              "    <div>\n",
              "        <style>\n",
              "            /* Turns off some styling */\n",
              "            progress {\n",
              "                /* gets rid of default border in Firefox and Opera. */\n",
              "                border: none;\n",
              "                /* Needs to be in here for Safari polyfill so background images work as expected. */\n",
              "                background-size: auto;\n",
              "            }\n",
              "            .progress-bar-interrupted, .progress-bar-interrupted::-webkit-progress-bar {\n",
              "                background: #F44336;\n",
              "            }\n",
              "        </style>\n",
              "      <progress value='95' class='' max='218', style='width:300px; height:20px; vertical-align: middle;'></progress>\n",
              "      43.58% [95/218 00:07<00:09 4.2895]\n",
              "    </div>\n",
              "    "
            ],
            "text/plain": [
              "<IPython.core.display.HTML object>"
            ]
          },
          "metadata": {
            "tags": []
          }
        },
        {
          "output_type": "stream",
          "text": [
            "LR Finder is complete, type {learner_name}.recorder.plot() to see the graph.\n",
            "Min numerical gradient: 9.12E-07\n",
            "Min loss divided by 10: 1.45E-02\n"
          ],
          "name": "stdout"
        },
        {
          "output_type": "display_data",
          "data": {
            "image/png": "[encoded data removed]",
            "text/plain": [
              "<Figure size 432x288 with 1 Axes>"
            ]
          },
          "metadata": {
            "tags": []
          }
        }
      ]
    },
    {
      "cell_type": "code",
      "metadata": {
        "id": "3H7e89ab9u9K",
        "colab_type": "code",
        "outputId": "f54c8e6c-63b6-43f3-c750-c564b688cb00",
        "colab": {
          "base_uri": "https://localhost:8080/",
          "height": 106
        }
      },
      "source": [
        "learn.fit_one_cycle(2, min_grad_lr)"
      ],
      "execution_count": 22,
      "outputs": [
        {
          "output_type": "display_data",
          "data": {
            "text/html": [
              "<table border=\"1\" class=\"dataframe\">\n",
              "  <thead>\n",
              "    <tr style=\"text-align: left;\">\n",
              "      <th>epoch</th>\n",
              "      <th>train_loss</th>\n",
              "      <th>valid_loss</th>\n",
              "      <th>accuracy</th>\n",
              "      <th>time</th>\n",
              "    </tr>\n",
              "  </thead>\n",
              "  <tbody>\n",
              "    <tr>\n",
              "      <td>0</td>\n",
              "      <td>1.233921</td>\n",
              "      <td>1.180833</td>\n",
              "      <td>0.357929</td>\n",
              "      <td>00:21</td>\n",
              "    </tr>\n",
              "    <tr>\n",
              "      <td>1</td>\n",
              "      <td>1.224656</td>\n",
              "      <td>1.167201</td>\n",
              "      <td>0.365357</td>\n",
              "      <td>00:22</td>\n",
              "    </tr>\n",
              "  </tbody>\n",
              "</table>"
            ],
            "text/plain": [
              "<IPython.core.display.HTML object>"
            ]
          },
          "metadata": {
            "tags": []
          }
        }
      ]
    },
    {
      "cell_type": "code",
      "metadata": {
        "id": "U3AjT6C89yCU",
        "colab_type": "code",
        "outputId": "4d9ed783-283e-46f7-bf95-0b12daf26ec8",
        "colab": {
          "base_uri": "https://localhost:8080/",
          "height": 279
        }
      },
      "source": [
        "learn.recorder.plot_losses()"
      ],
      "execution_count": 23,
      "outputs": [
        {
          "output_type": "display_data",
          "data": {
            "image/png": "[encoded data removed]",
            "text/plain": [
              "<Figure size 432x288 with 1 Axes>"
            ]
          },
          "metadata": {
            "tags": []
          }
        }
      ]
    },
    {
      "cell_type": "code",
      "metadata": {
        "id": "cXzFnXvR91b8",
        "colab_type": "code",
        "outputId": "c38f103e-aa83-4336-e89f-6b0f7ec03639",
        "colab": {
          "base_uri": "https://localhost:8080/",
          "height": 166
        }
      },
      "source": [
        "learn.freeze_to(-2)\n",
        "learn.fit_one_cycle(4, slice(5e-3, 2e-3), moms=(0.8,0.7))"
      ],
      "execution_count": 24,
      "outputs": [
        {
          "output_type": "display_data",
          "data": {
            "text/html": [
              "<table border=\"1\" class=\"dataframe\">\n",
              "  <thead>\n",
              "    <tr style=\"text-align: left;\">\n",
              "      <th>epoch</th>\n",
              "      <th>train_loss</th>\n",
              "      <th>valid_loss</th>\n",
              "      <th>accuracy</th>\n",
              "      <th>time</th>\n",
              "    </tr>\n",
              "  </thead>\n",
              "  <tbody>\n",
              "    <tr>\n",
              "      <td>0</td>\n",
              "      <td>0.946528</td>\n",
              "      <td>0.841397</td>\n",
              "      <td>0.606500</td>\n",
              "      <td>00:24</td>\n",
              "    </tr>\n",
              "    <tr>\n",
              "      <td>1</td>\n",
              "      <td>0.899067</td>\n",
              "      <td>0.820705</td>\n",
              "      <td>0.613643</td>\n",
              "      <td>00:23</td>\n",
              "    </tr>\n",
              "    <tr>\n",
              "      <td>2</td>\n",
              "      <td>0.866520</td>\n",
              "      <td>0.763423</td>\n",
              "      <td>0.658500</td>\n",
              "      <td>00:22</td>\n",
              "    </tr>\n",
              "    <tr>\n",
              "      <td>3</td>\n",
              "      <td>0.816612</td>\n",
              "      <td>0.735430</td>\n",
              "      <td>0.677214</td>\n",
              "      <td>00:23</td>\n",
              "    </tr>\n",
              "  </tbody>\n",
              "</table>"
            ],
            "text/plain": [
              "<IPython.core.display.HTML object>"
            ]
          },
          "metadata": {
            "tags": []
          }
        }
      ]
    },
    {
      "cell_type": "code",
      "metadata": {
        "id": "17tFKFBW95md",
        "colab_type": "code",
        "outputId": "d26b495b-2834-4c0e-ffb1-deacda6ab0a3",
        "colab": {
          "base_uri": "https://localhost:8080/",
          "height": 279
        }
      },
      "source": [
        "learn.recorder.plot_losses()"
      ],
      "execution_count": 25,
      "outputs": [
        {
          "output_type": "display_data",
          "data": {
            "image/png": "[encoded data removed]",
            "text/plain": [
              "<Figure size 432x288 with 1 Axes>"
            ]
          },
          "metadata": {
            "tags": []
          }
        }
      ]
    },
    {
      "cell_type": "code",
      "metadata": {
        "id": "b5QHV_gO98Ze",
        "colab_type": "code",
        "outputId": "ae45da46-272f-4741-ea7c-894cea8a5483",
        "colab": {
          "base_uri": "https://localhost:8080/",
          "height": 166
        }
      },
      "source": [
        "learn.unfreeze()\n",
        "learn.fit_one_cycle(4, slice(2e-3/100, 2e-3), moms=(0.8,0.7))"
      ],
      "execution_count": 26,
      "outputs": [
        {
          "output_type": "display_data",
          "data": {
            "text/html": [
              "<table border=\"1\" class=\"dataframe\">\n",
              "  <thead>\n",
              "    <tr style=\"text-align: left;\">\n",
              "      <th>epoch</th>\n",
              "      <th>train_loss</th>\n",
              "      <th>valid_loss</th>\n",
              "      <th>accuracy</th>\n",
              "      <th>time</th>\n",
              "    </tr>\n",
              "  </thead>\n",
              "  <tbody>\n",
              "    <tr>\n",
              "      <td>0</td>\n",
              "      <td>0.828828</td>\n",
              "      <td>0.725742</td>\n",
              "      <td>0.684000</td>\n",
              "      <td>00:24</td>\n",
              "    </tr>\n",
              "    <tr>\n",
              "      <td>1</td>\n",
              "      <td>0.809905</td>\n",
              "      <td>0.684392</td>\n",
              "      <td>0.709643</td>\n",
              "      <td>00:26</td>\n",
              "    </tr>\n",
              "    <tr>\n",
              "      <td>2</td>\n",
              "      <td>0.775947</td>\n",
              "      <td>0.628286</td>\n",
              "      <td>0.741214</td>\n",
              "      <td>00:25</td>\n",
              "    </tr>\n",
              "    <tr>\n",
              "      <td>3</td>\n",
              "      <td>0.721520</td>\n",
              "      <td>0.614705</td>\n",
              "      <td>0.748929</td>\n",
              "      <td>00:24</td>\n",
              "    </tr>\n",
              "  </tbody>\n",
              "</table>"
            ],
            "text/plain": [
              "<IPython.core.display.HTML object>"
            ]
          },
          "metadata": {
            "tags": []
          }
        }
      ]
    },
    {
      "cell_type": "code",
      "metadata": {
        "id": "FLANBe3FMtOf",
        "colab_type": "code",
        "colab": {
          "base_uri": "https://localhost:8080/",
          "height": 166
        },
        "outputId": "380b7614-717b-4d6b-b437-844ea88cd162"
      },
      "source": [
        "learn.unfreeze()\n",
        "learn.fit_one_cycle(4, slice(2e-3/100, 2e-3), moms=(0.8,0.7))"
      ],
      "execution_count": 27,
      "outputs": [
        {
          "output_type": "display_data",
          "data": {
            "text/html": [
              "<table border=\"1\" class=\"dataframe\">\n",
              "  <thead>\n",
              "    <tr style=\"text-align: left;\">\n",
              "      <th>epoch</th>\n",
              "      <th>train_loss</th>\n",
              "      <th>valid_loss</th>\n",
              "      <th>accuracy</th>\n",
              "      <th>time</th>\n",
              "    </tr>\n",
              "  </thead>\n",
              "  <tbody>\n",
              "    <tr>\n",
              "      <td>0</td>\n",
              "      <td>0.739011</td>\n",
              "      <td>0.603119</td>\n",
              "      <td>0.750929</td>\n",
              "      <td>00:24</td>\n",
              "    </tr>\n",
              "    <tr>\n",
              "      <td>1</td>\n",
              "      <td>0.741544</td>\n",
              "      <td>0.566484</td>\n",
              "      <td>0.770286</td>\n",
              "      <td>00:25</td>\n",
              "    </tr>\n",
              "    <tr>\n",
              "      <td>2</td>\n",
              "      <td>0.675860</td>\n",
              "      <td>0.496887</td>\n",
              "      <td>0.810929</td>\n",
              "      <td>00:24</td>\n",
              "    </tr>\n",
              "    <tr>\n",
              "      <td>3</td>\n",
              "      <td>0.629504</td>\n",
              "      <td>0.490201</td>\n",
              "      <td>0.813071</td>\n",
              "      <td>00:25</td>\n",
              "    </tr>\n",
              "  </tbody>\n",
              "</table>"
            ],
            "text/plain": [
              "<IPython.core.display.HTML object>"
            ]
          },
          "metadata": {
            "tags": []
          }
        }
      ]
    },
    {
      "cell_type": "code",
      "metadata": {
        "id": "IeMYefLHNMBM",
        "colab_type": "code",
        "colab": {
          "base_uri": "https://localhost:8080/",
          "height": 166
        },
        "outputId": "1ebb3ac9-cc1f-451b-cfee-877f9b177a96"
      },
      "source": [
        "learn.unfreeze()\n",
        "learn.fit_one_cycle(4, slice(2e-3/100, 2e-3), moms=(0.8,0.7))"
      ],
      "execution_count": 28,
      "outputs": [
        {
          "output_type": "display_data",
          "data": {
            "text/html": [
              "<table border=\"1\" class=\"dataframe\">\n",
              "  <thead>\n",
              "    <tr style=\"text-align: left;\">\n",
              "      <th>epoch</th>\n",
              "      <th>train_loss</th>\n",
              "      <th>valid_loss</th>\n",
              "      <th>accuracy</th>\n",
              "      <th>time</th>\n",
              "    </tr>\n",
              "  </thead>\n",
              "  <tbody>\n",
              "    <tr>\n",
              "      <td>0</td>\n",
              "      <td>0.651999</td>\n",
              "      <td>0.482847</td>\n",
              "      <td>0.809071</td>\n",
              "      <td>00:25</td>\n",
              "    </tr>\n",
              "    <tr>\n",
              "      <td>1</td>\n",
              "      <td>0.664452</td>\n",
              "      <td>0.460198</td>\n",
              "      <td>0.827286</td>\n",
              "      <td>00:25</td>\n",
              "    </tr>\n",
              "    <tr>\n",
              "      <td>2</td>\n",
              "      <td>0.633138</td>\n",
              "      <td>0.404538</td>\n",
              "      <td>0.856071</td>\n",
              "      <td>00:24</td>\n",
              "    </tr>\n",
              "    <tr>\n",
              "      <td>3</td>\n",
              "      <td>0.598427</td>\n",
              "      <td>0.386405</td>\n",
              "      <td>0.863643</td>\n",
              "      <td>00:25</td>\n",
              "    </tr>\n",
              "  </tbody>\n",
              "</table>"
            ],
            "text/plain": [
              "<IPython.core.display.HTML object>"
            ]
          },
          "metadata": {
            "tags": []
          }
        }
      ]
    },
    {
      "cell_type": "code",
      "metadata": {
        "id": "-eiw0BL0NxYw",
        "colab_type": "code",
        "colab": {
          "base_uri": "https://localhost:8080/",
          "height": 166
        },
        "outputId": "a40b4597-e591-4f3d-ba26-cab286050310"
      },
      "source": [
        "learn.unfreeze()\n",
        "learn.fit_one_cycle(4, slice(2e-3/100, 2e-3), moms=(0.8,0.7))"
      ],
      "execution_count": 29,
      "outputs": [
        {
          "output_type": "display_data",
          "data": {
            "text/html": [
              "<table border=\"1\" class=\"dataframe\">\n",
              "  <thead>\n",
              "    <tr style=\"text-align: left;\">\n",
              "      <th>epoch</th>\n",
              "      <th>train_loss</th>\n",
              "      <th>valid_loss</th>\n",
              "      <th>accuracy</th>\n",
              "      <th>time</th>\n",
              "    </tr>\n",
              "  </thead>\n",
              "  <tbody>\n",
              "    <tr>\n",
              "      <td>0</td>\n",
              "      <td>0.582876</td>\n",
              "      <td>0.379152</td>\n",
              "      <td>0.861786</td>\n",
              "      <td>00:24</td>\n",
              "    </tr>\n",
              "    <tr>\n",
              "      <td>1</td>\n",
              "      <td>0.598676</td>\n",
              "      <td>0.364651</td>\n",
              "      <td>0.873000</td>\n",
              "      <td>00:25</td>\n",
              "    </tr>\n",
              "    <tr>\n",
              "      <td>2</td>\n",
              "      <td>0.548100</td>\n",
              "      <td>0.311508</td>\n",
              "      <td>0.895857</td>\n",
              "      <td>00:25</td>\n",
              "    </tr>\n",
              "    <tr>\n",
              "      <td>3</td>\n",
              "      <td>0.519945</td>\n",
              "      <td>0.299222</td>\n",
              "      <td>0.899500</td>\n",
              "      <td>00:24</td>\n",
              "    </tr>\n",
              "  </tbody>\n",
              "</table>"
            ],
            "text/plain": [
              "<IPython.core.display.HTML object>"
            ]
          },
          "metadata": {
            "tags": []
          }
        }
      ]
    },
    {
      "cell_type": "code",
      "metadata": {
        "id": "HbPOSTx2OQkn",
        "colab_type": "code",
        "colab": {
          "base_uri": "https://localhost:8080/",
          "height": 166
        },
        "outputId": "22adef47-2659-4e0d-c560-43c8446b1420"
      },
      "source": [
        "learn.unfreeze()\n",
        "learn.fit_one_cycle(4, slice(2e-3/100, 2e-3), moms=(0.8,0.7))"
      ],
      "execution_count": 30,
      "outputs": [
        {
          "output_type": "display_data",
          "data": {
            "text/html": [
              "<table border=\"1\" class=\"dataframe\">\n",
              "  <thead>\n",
              "    <tr style=\"text-align: left;\">\n",
              "      <th>epoch</th>\n",
              "      <th>train_loss</th>\n",
              "      <th>valid_loss</th>\n",
              "      <th>accuracy</th>\n",
              "      <th>time</th>\n",
              "    </tr>\n",
              "  </thead>\n",
              "  <tbody>\n",
              "    <tr>\n",
              "      <td>0</td>\n",
              "      <td>0.524700</td>\n",
              "      <td>0.299945</td>\n",
              "      <td>0.901786</td>\n",
              "      <td>00:24</td>\n",
              "    </tr>\n",
              "    <tr>\n",
              "      <td>1</td>\n",
              "      <td>0.541711</td>\n",
              "      <td>0.291821</td>\n",
              "      <td>0.903357</td>\n",
              "      <td>00:26</td>\n",
              "    </tr>\n",
              "    <tr>\n",
              "      <td>2</td>\n",
              "      <td>0.503787</td>\n",
              "      <td>0.252224</td>\n",
              "      <td>0.926143</td>\n",
              "      <td>00:24</td>\n",
              "    </tr>\n",
              "    <tr>\n",
              "      <td>3</td>\n",
              "      <td>0.455294</td>\n",
              "      <td>0.229952</td>\n",
              "      <td>0.932214</td>\n",
              "      <td>00:24</td>\n",
              "    </tr>\n",
              "  </tbody>\n",
              "</table>"
            ],
            "text/plain": [
              "<IPython.core.display.HTML object>"
            ]
          },
          "metadata": {
            "tags": []
          }
        }
      ]
    },
    {
      "cell_type": "code",
      "metadata": {
        "id": "NROswzroOtpB",
        "colab_type": "code",
        "colab": {
          "base_uri": "https://localhost:8080/",
          "height": 166
        },
        "outputId": "fe52b9be-533a-4081-fed5-33d6e65e606d"
      },
      "source": [
        "learn.unfreeze()\n",
        "learn.fit_one_cycle(4, slice(2e-3/100, 2e-3), moms=(0.8,0.7))"
      ],
      "execution_count": 31,
      "outputs": [
        {
          "output_type": "display_data",
          "data": {
            "text/html": [
              "<table border=\"1\" class=\"dataframe\">\n",
              "  <thead>\n",
              "    <tr style=\"text-align: left;\">\n",
              "      <th>epoch</th>\n",
              "      <th>train_loss</th>\n",
              "      <th>valid_loss</th>\n",
              "      <th>accuracy</th>\n",
              "      <th>time</th>\n",
              "    </tr>\n",
              "  </thead>\n",
              "  <tbody>\n",
              "    <tr>\n",
              "      <td>0</td>\n",
              "      <td>0.487567</td>\n",
              "      <td>0.243088</td>\n",
              "      <td>0.927786</td>\n",
              "      <td>00:26</td>\n",
              "    </tr>\n",
              "    <tr>\n",
              "      <td>1</td>\n",
              "      <td>0.499658</td>\n",
              "      <td>0.236588</td>\n",
              "      <td>0.925786</td>\n",
              "      <td>00:25</td>\n",
              "    </tr>\n",
              "    <tr>\n",
              "      <td>2</td>\n",
              "      <td>0.448278</td>\n",
              "      <td>0.187213</td>\n",
              "      <td>0.949786</td>\n",
              "      <td>00:25</td>\n",
              "    </tr>\n",
              "    <tr>\n",
              "      <td>3</td>\n",
              "      <td>0.418542</td>\n",
              "      <td>0.175831</td>\n",
              "      <td>0.954429</td>\n",
              "      <td>00:25</td>\n",
              "    </tr>\n",
              "  </tbody>\n",
              "</table>"
            ],
            "text/plain": [
              "<IPython.core.display.HTML object>"
            ]
          },
          "metadata": {
            "tags": []
          }
        }
      ]
    },
    {
      "cell_type": "markdown",
      "metadata": {
        "id": "XUf_GA3bXIEn",
        "colab_type": "text"
      },
      "source": [
        "## 5. Analyzing our results"
      ]
    },
    {
      "cell_type": "code",
      "metadata": {
        "id": "INCp-Ozi-BfK",
        "colab_type": "code",
        "outputId": "51b36540-93e7-4bd3-df51-04178b06ee3f",
        "colab": {
          "base_uri": "https://localhost:8080/",
          "height": 311
        }
      },
      "source": [
        "preds,y,losses = learn.get_preds(with_loss=True)\n",
        "interp = ClassificationInterpretation(learn, preds, y, losses)\n",
        "interp.plot_confusion_matrix()"
      ],
      "execution_count": 0,
      "outputs": [
        {
          "output_type": "display_data",
          "data": {
            "image/png": "[encoded data removed]",
            "text/plain": [
              "<Figure size 432x288 with 1 Axes>"
            ]
          },
          "metadata": {
            "tags": []
          }
        }
      ]
    },
    {
      "cell_type": "code",
      "metadata": {
        "id": "Etgy39mH-ED-",
        "colab_type": "code",
        "outputId": "85ef628a-f24d-4c9a-aed5-387fc3d693de",
        "colab": {
          "base_uri": "https://localhost:8080/",
          "height": 1000
        }
      },
      "source": [
        "interp.most_confused()"
      ],
      "execution_count": 0,
      "outputs": [
        {
          "output_type": "execute_result",
          "data": {
            "text/plain": [
              "[('osx', 'cocoa', 41),\n",
              " ('qt', 'cocoa', 30),\n",
              " ('cocoa', 'osx', 25),\n",
              " ('scala', 'haskell', 16),\n",
              " ('cocoa', 'qt', 11),\n",
              " ('osx', 'qt', 11),\n",
              " ('spring', 'hibernate', 11),\n",
              " ('ajax', 'apache', 10),\n",
              " ('ajax', 'cocoa', 10),\n",
              " ('bash', 'osx', 10),\n",
              " ('svn', 'visual-studio', 10),\n",
              " ('hibernate', 'spring', 9),\n",
              " ('matlab', 'bash', 9),\n",
              " ('osx', 'svn', 9),\n",
              " ('sharepoint', 'cocoa', 9),\n",
              " ('bash', 'cocoa', 8),\n",
              " ('cocoa', 'bash', 8),\n",
              " ('hibernate', 'oracle', 8),\n",
              " ('scala', 'qt', 8),\n",
              " ('sharepoint', 'visual-studio', 8),\n",
              " ('spring', 'cocoa', 8),\n",
              " ('apache', 'ajax', 7),\n",
              " ('bash', 'qt', 7),\n",
              " ('cocoa', 'oracle', 7),\n",
              " ('excel', 'cocoa', 7),\n",
              " ('osx', 'visual-studio', 7),\n",
              " ('spring', 'qt', 7),\n",
              " ('ajax', 'spring', 6),\n",
              " ('apache', 'osx', 6),\n",
              " ('bash', 'apache', 6),\n",
              " ('drupal', 'magento', 6),\n",
              " ('drupal', 'sharepoint', 6),\n",
              " ('haskell', 'cocoa', 6),\n",
              " ('hibernate', 'cocoa', 6),\n",
              " ('hibernate', 'linq', 6),\n",
              " ('matlab', 'cocoa', 6),\n",
              " ('osx', 'ajax', 6),\n",
              " ('osx', 'bash', 6),\n",
              " ('qt', 'bash', 6),\n",
              " ('qt', 'haskell', 6),\n",
              " ('sharepoint', 'qt', 6),\n",
              " ('svn', 'cocoa', 6),\n",
              " ('visual-studio', 'cocoa', 6),\n",
              " ('ajax', 'oracle', 5),\n",
              " ('apache', 'cocoa', 5),\n",
              " ('apache', 'spring', 5),\n",
              " ('apache', 'svn', 5),\n",
              " ('drupal', 'cocoa', 5),\n",
              " ('haskell', 'scala', 5),\n",
              " ('linq', 'cocoa', 5),\n",
              " ('linq', 'visual-studio', 5),\n",
              " ('osx', 'apache', 5),\n",
              " ('qt', 'ajax', 5),\n",
              " ('qt', 'osx', 5),\n",
              " ('spring', 'oracle', 5),\n",
              " ('spring', 'scala', 5),\n",
              " ('wordpress', 'ajax', 5),\n",
              " ('ajax', 'bash', 4),\n",
              " ('apache', 'bash', 4),\n",
              " ('bash', 'ajax', 4),\n",
              " ('bash', 'haskell', 4),\n",
              " ('cocoa', 'matlab', 4),\n",
              " ('drupal', 'apache', 4),\n",
              " ('drupal', 'wordpress', 4),\n",
              " ('excel', 'matlab', 4),\n",
              " ('haskell', 'oracle', 4),\n",
              " ('linq', 'excel', 4),\n",
              " ('linq', 'hibernate', 4),\n",
              " ('magento', 'cocoa', 4),\n",
              " ('qt', 'spring', 4),\n",
              " ('qt', 'wordpress', 4),\n",
              " ('sharepoint', 'excel', 4),\n",
              " ('spring', 'ajax', 4),\n",
              " ('svn', 'bash', 4),\n",
              " ('visual-studio', 'ajax', 4),\n",
              " ('visual-studio', 'excel', 4),\n",
              " ('visual-studio', 'oracle', 4),\n",
              " ('visual-studio', 'qt', 4),\n",
              " ('visual-studio', 'sharepoint', 4),\n",
              " ('wordpress', 'apache', 4),\n",
              " ('ajax', 'qt', 3),\n",
              " ('ajax', 'sharepoint', 3),\n",
              " ('bash', 'svn', 3),\n",
              " ('cocoa', 'drupal', 3),\n",
              " ('cocoa', 'haskell', 3),\n",
              " ('cocoa', 'linq', 3),\n",
              " ('cocoa', 'scala', 3),\n",
              " ('cocoa', 'sharepoint', 3),\n",
              " ('cocoa', 'spring', 3),\n",
              " ('cocoa', 'visual-studio', 3),\n",
              " ('drupal', 'ajax', 3),\n",
              " ('drupal', 'bash', 3),\n",
              " ('excel', 'sharepoint', 3),\n",
              " ('excel', 'visual-studio', 3),\n",
              " ('haskell', 'osx', 3),\n",
              " ('haskell', 'qt', 3),\n",
              " ('haskell', 'spring', 3),\n",
              " ('hibernate', 'scala', 3),\n",
              " ('linq', 'oracle', 3),\n",
              " ('linq', 'scala', 3),\n",
              " ('linq', 'spring', 3),\n",
              " ('magento', 'wordpress', 3),\n",
              " ('oracle', 'ajax', 3),\n",
              " ('oracle', 'bash', 3),\n",
              " ('oracle', 'cocoa', 3),\n",
              " ('oracle', 'excel', 3),\n",
              " ('oracle', 'hibernate', 3),\n",
              " ('oracle', 'linq', 3),\n",
              " ('osx', 'matlab', 3),\n",
              " ('qt', 'visual-studio', 3),\n",
              " ('scala', 'cocoa', 3),\n",
              " ('sharepoint', 'spring', 3),\n",
              " ('svn', 'apache', 3),\n",
              " ('svn', 'qt', 3),\n",
              " ('svn', 'spring', 3),\n",
              " ('visual-studio', 'bash', 3),\n",
              " ('wordpress', 'cocoa', 3),\n",
              " ('wordpress', 'drupal', 3),\n",
              " ('wordpress', 'qt', 3),\n",
              " ('wordpress', 'sharepoint', 3),\n",
              " ('ajax', 'drupal', 2),\n",
              " ('ajax', 'wordpress', 2),\n",
              " ('apache', 'wordpress', 2),\n",
              " ('bash', 'visual-studio', 2),\n",
              " ('cocoa', 'ajax', 2),\n",
              " ('cocoa', 'magento', 2),\n",
              " ('cocoa', 'wordpress', 2),\n",
              " ('drupal', 'oracle', 2),\n",
              " ('excel', 'bash', 2),\n",
              " ('excel', 'osx', 2),\n",
              " ('excel', 'spring', 2),\n",
              " ('haskell', 'bash', 2),\n",
              " ('haskell', 'linq', 2),\n",
              " ('haskell', 'visual-studio', 2),\n",
              " ('hibernate', 'haskell', 2),\n",
              " ('linq', 'bash', 2),\n",
              " ('linq', 'haskell', 2),\n",
              " ('linq', 'matlab', 2),\n",
              " ('linq', 'sharepoint', 2),\n",
              " ('linq', 'svn', 2),\n",
              " ('magento', 'apache', 2),\n",
              " ('magento', 'osx', 2),\n",
              " ('magento', 'sharepoint', 2),\n",
              " ('matlab', 'excel', 2),\n",
              " ('matlab', 'haskell', 2),\n",
              " ('matlab', 'magento', 2),\n",
              " ('matlab', 'osx', 2),\n",
              " ('matlab', 'qt', 2),\n",
              " ('matlab', 'spring', 2),\n",
              " ('oracle', 'matlab', 2),\n",
              " ('oracle', 'sharepoint', 2),\n",
              " ('oracle', 'svn', 2),\n",
              " ('oracle', 'visual-studio', 2),\n",
              " ('osx', 'drupal', 2),\n",
              " ('osx', 'haskell', 2),\n",
              " ('osx', 'oracle', 2),\n",
              " ('qt', 'scala', 2),\n",
              " ('scala', 'ajax', 2),\n",
              " ('scala', 'linq', 2),\n",
              " ('scala', 'matlab', 2),\n",
              " ('scala', 'oracle', 2),\n",
              " ('scala', 'spring', 2),\n",
              " ('scala', 'visual-studio', 2),\n",
              " ('sharepoint', 'drupal', 2),\n",
              " ('sharepoint', 'linq', 2),\n",
              " ('spring', 'visual-studio', 2),\n",
              " ('svn', 'haskell', 2),\n",
              " ('svn', 'magento', 2),\n",
              " ('svn', 'osx', 2),\n",
              " ('svn', 'sharepoint', 2),\n",
              " ('visual-studio', 'haskell', 2),\n",
              " ('visual-studio', 'magento', 2),\n",
              " ('visual-studio', 'svn', 2),\n",
              " ('wordpress', 'magento', 2),\n",
              " ('wordpress', 'spring', 2),\n",
              " ('ajax', 'haskell', 1),\n",
              " ('ajax', 'linq', 1),\n",
              " ('ajax', 'magento', 1),\n",
              " ('ajax', 'osx', 1),\n",
              " ('ajax', 'visual-studio', 1),\n",
              " ('apache', 'drupal', 1),\n",
              " ('apache', 'haskell', 1),\n",
              " ('apache', 'magento', 1),\n",
              " ('apache', 'matlab', 1),\n",
              " ('apache', 'oracle', 1),\n",
              " ('apache', 'qt', 1),\n",
              " ('bash', 'hibernate', 1),\n",
              " ('bash', 'linq', 1),\n",
              " ('bash', 'matlab', 1),\n",
              " ('bash', 'oracle', 1),\n",
              " ('bash', 'sharepoint', 1),\n",
              " ('bash', 'spring', 1),\n",
              " ('bash', 'wordpress', 1),\n",
              " ('cocoa', 'apache', 1),\n",
              " ('cocoa', 'svn', 1),\n",
              " ('drupal', 'linq', 1),\n",
              " ('drupal', 'qt', 1),\n",
              " ('drupal', 'spring', 1),\n",
              " ('excel', 'ajax', 1),\n",
              " ('excel', 'apache', 1),\n",
              " ('excel', 'linq', 1),\n",
              " ('excel', 'magento', 1),\n",
              " ('excel', 'qt', 1),\n",
              " ('haskell', 'apache', 1),\n",
              " ('haskell', 'magento', 1),\n",
              " ('haskell', 'matlab', 1),\n",
              " ('haskell', 'svn', 1),\n",
              " ('hibernate', 'ajax', 1),\n",
              " ('hibernate', 'apache', 1),\n",
              " ('hibernate', 'bash', 1),\n",
              " ('hibernate', 'drupal', 1),\n",
              " ('hibernate', 'excel', 1),\n",
              " ('linq', 'ajax', 1),\n",
              " ('linq', 'osx', 1),\n",
              " ('linq', 'qt', 1),\n",
              " ('magento', 'ajax', 1),\n",
              " ('magento', 'bash', 1),\n",
              " ('magento', 'matlab', 1),\n",
              " ('magento', 'oracle', 1),\n",
              " ('magento', 'qt', 1),\n",
              " ('magento', 'spring', 1),\n",
              " ('magento', 'visual-studio', 1),\n",
              " ('matlab', 'sharepoint', 1),\n",
              " ('oracle', 'apache', 1),\n",
              " ('oracle', 'drupal', 1),\n",
              " ('oracle', 'magento', 1),\n",
              " ('oracle', 'osx', 1),\n",
              " ('oracle', 'scala', 1),\n",
              " ('oracle', 'spring', 1),\n",
              " ('osx', 'excel', 1),\n",
              " ('osx', 'magento', 1),\n",
              " ('osx', 'sharepoint', 1),\n",
              " ('osx', 'spring', 1),\n",
              " ('qt', 'apache', 1),\n",
              " ('qt', 'drupal', 1),\n",
              " ('qt', 'excel', 1),\n",
              " ('qt', 'matlab', 1),\n",
              " ('qt', 'oracle', 1),\n",
              " ('qt', 'sharepoint', 1),\n",
              " ('scala', 'hibernate', 1),\n",
              " ('scala', 'svn', 1),\n",
              " ('sharepoint', 'apache', 1),\n",
              " ('sharepoint', 'haskell', 1),\n",
              " ('sharepoint', 'svn', 1),\n",
              " ('sharepoint', 'wordpress', 1),\n",
              " ('spring', 'apache', 1),\n",
              " ('spring', 'bash', 1),\n",
              " ('spring', 'drupal', 1),\n",
              " ('spring', 'osx', 1),\n",
              " ('spring', 'wordpress', 1),\n",
              " ('svn', 'ajax', 1),\n",
              " ('svn', 'excel', 1),\n",
              " ('svn', 'scala', 1),\n",
              " ('visual-studio', 'apache', 1),\n",
              " ('visual-studio', 'linq', 1),\n",
              " ('visual-studio', 'matlab', 1),\n",
              " ('wordpress', 'bash', 1),\n",
              " ('wordpress', 'excel', 1),\n",
              " ('wordpress', 'visual-studio', 1)]"
            ]
          },
          "metadata": {
            "tags": []
          },
          "execution_count": 56
        }
      ]
    },
    {
      "cell_type": "markdown",
      "metadata": {
        "id": "0otTxIuBXOvi",
        "colab_type": "text"
      },
      "source": [
        "## 6. Predictions"
      ]
    },
    {
      "cell_type": "code",
      "metadata": {
        "id": "yGtVxuVh-JFT",
        "colab_type": "code",
        "outputId": "368f2303-5ec5-42e5-e58e-9e27a21e78cb",
        "colab": {
          "base_uri": "https://localhost:8080/",
          "height": 34
        }
      },
      "source": [
        "learn.predict(\"@AhsanAh @SarfarazA_ Ahsan bhai Meri taraf se Best wishes di jye ga apnay bhai ko :Pakistan::green_heart:\")"
      ],
      "execution_count": 44,
      "outputs": [
        {
          "output_type": "execute_result",
          "data": {
            "text/plain": [
              "(Category neutral, tensor(1), tensor([6.7470e-04, 8.5731e-01, 1.4201e-01]))"
            ]
          },
          "metadata": {
            "tags": []
          },
          "execution_count": 44
        }
      ]
    },
    {
      "cell_type": "markdown",
      "metadata": {
        "id": "aeRURqcqXUJY",
        "colab_type": "text"
      },
      "source": [
        "## 7. Export the model"
      ]
    },
    {
      "cell_type": "code",
      "metadata": {
        "id": "EFIPJelMih7z",
        "colab_type": "code",
        "colab": {}
      },
      "source": [
        "save_path = \"/content/SemEval_weights_data/models/95.40-fastai\"\n",
        "learn.export(save_path)"
      ],
      "execution_count": 0,
      "outputs": []
    },
    {
      "cell_type": "code",
      "metadata": {
        "id": "rtEB4yNqQEVQ",
        "colab_type": "code",
        "colab": {}
      },
      "source": [
        ""
      ],
      "execution_count": 0,
      "outputs": []
    }
  ]
}