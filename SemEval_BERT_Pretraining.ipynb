{
  "nbformat": 4,
  "nbformat_minor": 0,
  "metadata": {
    "colab": {
      "name": "SemEval_BERT_Pretraining.ipynb",
      "provenance": [],
      "collapsed_sections": [],
      "authorship_tag": "ABX9TyPZmFBJaGn9lXeGWf/wWDDe",
      "include_colab_link": true
    },
    "kernelspec": {
      "name": "python3",
      "display_name": "Python 3"
    }
  },
  "cells": [
    {
      "cell_type": "markdown",
      "metadata": {
        "id": "view-in-github",
        "colab_type": "text"
      },
      "source": [
        "<a href=\"https://colab.research.google.com/github/aditya-malte/SemEval/blob/master/SemEval_BERT_Pretraining.ipynb\" target=\"_parent\"><img src=\"https://colab.research.google.com/assets/colab-badge.svg\" alt=\"Open In Colab\"/></a>"
      ]
    },
    {
      "cell_type": "code",
      "metadata": {
        "id": "8Cm77XJ-R52w",
        "colab_type": "code",
        "colab": {
          "base_uri": "https://localhost:8080/",
          "height": 102
        },
        "outputId": "f18ca067-5788-4259-8fdc-0ef67aee9def"
      },
      "source": [
        "!git clone https://github.com/google-research/bert.git"
      ],
      "execution_count": 1,
      "outputs": [
        {
          "output_type": "stream",
          "text": [
            "Cloning into 'bert'...\n",
            "remote: Enumerating objects: 336, done.\u001b[K\n",
            "remote: Total 336 (delta 0), reused 0 (delta 0), pack-reused 336\u001b[K\n",
            "Receiving objects: 100% (336/336), 290.24 KiB | 536.00 KiB/s, done.\n",
            "Resolving deltas: 100% (184/184), done.\n"
          ],
          "name": "stdout"
        }
      ]
    },
    {
      "cell_type": "code",
      "metadata": {
        "id": "MoCYZH1Ol_ah",
        "colab_type": "code",
        "colab": {
          "base_uri": "https://localhost:8080/",
          "height": 34
        },
        "outputId": "b5939583-f94e-4eff-816e-60b6b5a5a604"
      },
      "source": [
        "%cd bert"
      ],
      "execution_count": 2,
      "outputs": [
        {
          "output_type": "stream",
          "text": [
            "/content/bert\n"
          ],
          "name": "stdout"
        }
      ]
    },
    {
      "cell_type": "code",
      "metadata": {
        "id": "qUpYvBVblntS",
        "colab_type": "code",
        "colab": {
          "base_uri": "https://localhost:8080/",
          "height": 68
        },
        "outputId": "04426ab5-8f26-4548-fb4a-060c9b918936"
      },
      "source": [
        "!curl https://raw.githubusercontent.com/aditya-malte/SemEval/master/bert_config.json?token=AE22XYKXR47D3MDNM3JKK5S6FLTTW -o bert_config.json"
      ],
      "execution_count": 3,
      "outputs": [
        {
          "output_type": "stream",
          "text": [
            "  % Total    % Received % Xferd  Average Speed   Time    Time     Time  Current\n",
            "                                 Dload  Upload   Total   Spent    Left  Speed\n",
            "\r  0     0    0     0    0     0      0      0 --:--:-- --:--:-- --:--:--     0\r  0     0    0     0    0     0      0      0 --:--:-- --:--:-- --:--:--     0\r100    15  100    15    0     0     46      0 --:--:-- --:--:-- --:--:--    46\n"
          ],
          "name": "stdout"
        }
      ]
    },
    {
      "cell_type": "code",
      "metadata": {
        "id": "uzrsC_iHcr7z",
        "colab_type": "code",
        "colab": {
          "base_uri": "https://localhost:8080/",
          "height": 598
        },
        "outputId": "beb81dfa-f31a-40f6-cb27-49f95f86aff8"
      },
      "source": [
        "!python create_pretraining_data.py \\\n",
        "  --input_file=./sample_text.txt \\\n",
        "  --output_file=/tmp/tf_examples.tfrecord \\\n",
        "  --vocab_file=$BERT_BASE_DIR/vocab.txt \\\n",
        "  --do_lower_case=True \\\n",
        "  --max_seq_length=128 \\\n",
        "  --max_predictions_per_seq=20 \\\n",
        "  --masked_lm_prob=0.15 \\\n",
        "  --random_seed=12345 \\\n",
        "  --dupe_factor=5"
      ],
      "execution_count": 5,
      "outputs": [
        {
          "output_type": "stream",
          "text": [
            "WARNING:tensorflow:From create_pretraining_data.py:469: The name tf.app.run is deprecated. Please use tf.compat.v1.app.run instead.\n",
            "\n",
            "Traceback (most recent call last):\n",
            "  File \"/usr/local/lib/python3.6/dist-packages/absl/flags/_flagvalues.py\", line 528, in _assert_validators\n",
            "    validator.verify(self)\n",
            "  File \"/usr/local/lib/python3.6/dist-packages/absl/flags/_validators.py\", line 82, in verify\n",
            "    raise _exceptions.ValidationError(self.message)\n",
            "absl.flags._exceptions.ValidationError: Flag --vocab_file must have a value other than None.\n",
            "\n",
            "During handling of the above exception, another exception occurred:\n",
            "\n",
            "Traceback (most recent call last):\n",
            "  File \"create_pretraining_data.py\", line 469, in <module>\n",
            "    tf.app.run()\n",
            "  File \"/usr/local/lib/python3.6/dist-packages/tensorflow_core/python/platform/app.py\", line 40, in run\n",
            "    _run(main=main, argv=argv, flags_parser=_parse_flags_tolerate_undef)\n",
            "  File \"/usr/local/lib/python3.6/dist-packages/absl/app.py\", line 293, in run\n",
            "    flags_parser,\n",
            "  File \"/usr/local/lib/python3.6/dist-packages/absl/app.py\", line 362, in _run_init\n",
            "    flags_parser=flags_parser,\n",
            "  File \"/usr/local/lib/python3.6/dist-packages/absl/app.py\", line 212, in _register_and_parse_flags_with_usage\n",
            "    args_to_main = flags_parser(original_argv)\n",
            "  File \"/usr/local/lib/python3.6/dist-packages/tensorflow_core/python/platform/app.py\", line 31, in _parse_flags_tolerate_undef\n",
            "    return flags.FLAGS(_sys.argv if argv is None else argv, known_only=True)\n",
            "  File \"/usr/local/lib/python3.6/dist-packages/tensorflow_core/python/platform/flags.py\", line 112, in __call__\n",
            "    return self.__dict__['__wrapped'].__call__(*args, **kwargs)\n",
            "  File \"/usr/local/lib/python3.6/dist-packages/absl/flags/_flagvalues.py\", line 636, in __call__\n",
            "    self._assert_all_validators()\n",
            "  File \"/usr/local/lib/python3.6/dist-packages/absl/flags/_flagvalues.py\", line 510, in _assert_all_validators\n",
            "    self._assert_validators(all_validators)\n",
            "  File \"/usr/local/lib/python3.6/dist-packages/absl/flags/_flagvalues.py\", line 531, in _assert_validators\n",
            "    raise _exceptions.IllegalFlagValueError('%s: %s' % (message, str(e)))\n",
            "absl.flags._exceptions.IllegalFlagValueError: flag --vocab_file=None: Flag --vocab_file must have a value other than None.\n"
          ],
          "name": "stdout"
        }
      ]
    },
    {
      "cell_type": "code",
      "metadata": {
        "id": "MO5NQsLPcxgv",
        "colab_type": "code",
        "colab": {}
      },
      "source": [
        "python run_pretraining.py \\\n",
        "  --input_file=/tmp/tf_examples.tfrecord \\\n",
        "  --output_dir=/tmp/pretraining_output \\\n",
        "  --do_train=True \\\n",
        "  --do_eval=True \\\n",
        "  --bert_config_file=$BERT_BASE_DIR/bert_config.json \\\n",
        "  --init_checkpoint=$BERT_BASE_DIR/bert_model.ckpt \\\n",
        "  --train_batch_size=32 \\\n",
        "  --max_seq_length=128 \\\n",
        "  --max_predictions_per_seq=20 \\\n",
        "  --num_train_steps=20 \\\n",
        "  --num_warmup_steps=10 \\\n",
        "  --learning_rate=2e-5"
      ],
      "execution_count": 0,
      "outputs": []
    },
    {
      "cell_type": "markdown",
      "metadata": {
        "id": "D6AZHE-HoBYg",
        "colab_type": "text"
      },
      "source": [
        "##TEMP"
      ]
    },
    {
      "cell_type": "code",
      "metadata": {
        "id": "g2sHZmWhoCvD",
        "colab_type": "code",
        "colab": {
          "base_uri": "https://localhost:8080/",
          "height": 323
        },
        "outputId": "fd026c75-09e8-4195-f82a-e93f5591e618"
      },
      "source": [
        "!wget https://storage.googleapis.com/bert_models/2018_10_18/uncased_L-12_H-768_A-12.zip\n",
        "!unzip uncased_L-12_H-768_A-12.zip"
      ],
      "execution_count": 1,
      "outputs": [
        {
          "output_type": "stream",
          "text": [
            "--2020-01-24 12:56:55--  https://storage.googleapis.com/bert_models/2018_10_18/uncased_L-12_H-768_A-12.zip\n",
            "Resolving storage.googleapis.com (storage.googleapis.com)... 74.125.20.128, 2607:f8b0:400e:c09::80\n",
            "Connecting to storage.googleapis.com (storage.googleapis.com)|74.125.20.128|:443... connected.\n",
            "HTTP request sent, awaiting response... 200 OK\n",
            "Length: 407727028 (389M) [application/zip]\n",
            "Saving to: ‘uncased_L-12_H-768_A-12.zip’\n",
            "\n",
            "uncased_L-12_H-768_ 100%[===================>] 388.84M   121MB/s    in 3.2s    \n",
            "\n",
            "2020-01-24 12:56:59 (121 MB/s) - ‘uncased_L-12_H-768_A-12.zip’ saved [407727028/407727028]\n",
            "\n",
            "Archive:  uncased_L-12_H-768_A-12.zip\n",
            "   creating: uncased_L-12_H-768_A-12/\n",
            "  inflating: uncased_L-12_H-768_A-12/bert_model.ckpt.meta  \n",
            "  inflating: uncased_L-12_H-768_A-12/bert_model.ckpt.data-00000-of-00001  \n",
            "  inflating: uncased_L-12_H-768_A-12/vocab.txt  \n",
            "  inflating: uncased_L-12_H-768_A-12/bert_model.ckpt.index  \n",
            "  inflating: uncased_L-12_H-768_A-12/bert_config.json  \n"
          ],
          "name": "stdout"
        }
      ]
    }
  ]
}